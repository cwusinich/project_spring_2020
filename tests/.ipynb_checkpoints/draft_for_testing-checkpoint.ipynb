{
 "cells": [
  {
   "cell_type": "code",
   "execution_count": 61,
   "metadata": {},
   "outputs": [],
   "source": [
    "import MID_proc as mid\n",
    "import os\n",
    "import shutil\n",
    "from datetime import datetime\n",
    "from pathlib import Path\n",
    "import numpy as np\n",
    "import pandas as pd\n",
    "import random\n",
    "\n",
    "#set current date for use in filenames\n",
    "DATE_TODAY = datetime.now().strftime('%m%d%Y')\n",
    "FAKE_SUBS = ['7','13','101','102','99','990','9999']\n",
    "\n",
    "def make_test_data(basedir=None):\n",
    "\t#set up some example directories and files for use with tests\n",
    "\tif not basedir:\n",
    "\t\tbasedir= Path(os.getcwd())\n",
    "\n",
    "\tfake_subdir= basedir / \"MID_test_data\" / \"subjects\"\n",
    "\tfake_scriptsdir = fake_subdir.with_name(\"scripts\")\n",
    "\tfake_swarmdir= fake_scriptsdir / \"swarm\"\n",
    "\n",
    "\tos.makedirs(fake_swarmdir,exist_ok=True)\n",
    "\n",
    "\t#set sub fake sub ID numbers; these were picked to test that prefix length calculation in make_param() works with a variety of ID lengths\n",
    "\tfake_sub_file = fake_scriptsdir / \"fake_sub_file.txt\"\n",
    "\tfake_sub_file.write_text('\\n'.join(FAKE_SUBS))\n",
    "\n",
    "\tfor sub in FAKE_SUBS:\n",
    "\t\tos.makedirs(fake_subdir / f\"sub-{sub}\"/ \"meg\" , exist_ok=True)\n",
    "\t\tos.makedirs(fake_subdir / f\"sub-{sub}\" / \"behavior\", exist_ok=True)\n",
    "\n",
    "\t#make fake cue files for use in behavior data processing\n",
    "\tfor sub in FAKE_SUBS:\n",
    "\t\ta=np.array([0]*78)\n",
    "\t\tb=np.array(np.linspace(10, 727, 78, False))\n",
    "\t\tcuemarks=np.column_stack((a,b))\n",
    "\t\tdf = pd.DataFrame(cuemarks)\n",
    "\t\tdf.to_csv(fake_subdir / f'sub-{sub}' / 'meg' / 'cue_marks', index=False, header=False, sep=' ')\n",
    "        \n",
    "\t#make fake behavior data files\n",
    "\tfor sub in FAKE_SUBS:\n",
    "\t\tbeh_name=f'MID1-{sub}-1_behavior.txt'\n",
    "\t\twin=['Win2']*26\n",
    "\t\tlose=['Lose2']*26\n",
    "\t\tcont=['Control']*26\n",
    "\t\twin.extend(lose)\n",
    "\t\twin.extend(cont)\n",
    "\t\trandom.shuffle(win)\n",
    "\t\tcuewords=win\n",
    "\t\tcol1=np.array(cuewords)\n",
    "\t\tresp=random.choices(['GoodResponse','NoResponse'], k=78)\n",
    "\t\tcol2=np.array(resp)\n",
    "\t\trt=np.random.randint(150,550,size=78)\n",
    "\t\tcol3=rt\n",
    "\t\tdf2=np.column_stack([col1,col2,col3])\n",
    "\t\tfake_beh=pd.DataFrame(df2,columns=['Cue','ResponseType','Target.RT'])\n",
    "\t\tfake_beh.to_csv(fake_subdir / f'sub-{sub}' / 'behavior' / beh_name, sep=' ', mode='a', index=False)"
   ]
  },
  {
   "cell_type": "code",
   "execution_count": null,
   "metadata": {},
   "outputs": [],
   "source": [
    "make_test_data()"
   ]
  },
  {
   "cell_type": "code",
   "execution_count": null,
   "metadata": {},
   "outputs": [],
   "source": []
  },
  {
   "cell_type": "code",
   "execution_count": 40,
   "metadata": {},
   "outputs": [
    {
     "ename": "TypeError",
     "evalue": "randint() got an unexpected keyword argument 'size'",
     "output_type": "error",
     "traceback": [
      "\u001b[0;31m---------------------------------------------------------------------------\u001b[0m",
      "\u001b[0;31mTypeError\u001b[0m                                 Traceback (most recent call last)",
      "\u001b[0;32m<ipython-input-40-1f2a4e245e80>\u001b[0m in \u001b[0;36m<module>\u001b[0;34m\u001b[0m\n\u001b[1;32m      1\u001b[0m \u001b[0;32mimport\u001b[0m \u001b[0mnumpy\u001b[0m \u001b[0;32mas\u001b[0m \u001b[0mnp\u001b[0m\u001b[0;34m\u001b[0m\u001b[0;34m\u001b[0m\u001b[0m\n\u001b[1;32m      2\u001b[0m \u001b[0;32mimport\u001b[0m \u001b[0mrandom\u001b[0m\u001b[0;34m\u001b[0m\u001b[0;34m\u001b[0m\u001b[0m\n\u001b[0;32m----> 3\u001b[0;31m \u001b[0mrt\u001b[0m\u001b[0;34m=\u001b[0m\u001b[0;34m[\u001b[0m\u001b[0mrandom\u001b[0m\u001b[0;34m.\u001b[0m\u001b[0mrandint\u001b[0m\u001b[0;34m(\u001b[0m\u001b[0;36m150\u001b[0m\u001b[0;34m,\u001b[0m\u001b[0;36m550\u001b[0m\u001b[0;34m,\u001b[0m\u001b[0msize\u001b[0m\u001b[0;34m=\u001b[0m\u001b[0;36m78\u001b[0m\u001b[0;34m)\u001b[0m\u001b[0;34m]\u001b[0m\u001b[0;34m\u001b[0m\u001b[0;34m\u001b[0m\u001b[0m\n\u001b[0m\u001b[1;32m      4\u001b[0m \u001b[0mprint\u001b[0m\u001b[0;34m(\u001b[0m\u001b[0mrt\u001b[0m\u001b[0;34m)\u001b[0m\u001b[0;34m\u001b[0m\u001b[0;34m\u001b[0m\u001b[0m\n",
      "\u001b[0;31mTypeError\u001b[0m: randint() got an unexpected keyword argument 'size'"
     ]
    }
   ],
   "source": [
    "import numpy as np\n",
    "import random\n",
    "rt=[random.randint(150,550,size=78)]\n",
    "print(rt)"
   ]
  },
  {
   "cell_type": "code",
   "execution_count": 65,
   "metadata": {},
   "outputs": [
    {
     "name": "stdout",
     "output_type": "stream",
     "text": [
      "          0             1          2\n",
      "0     Lose2  GoodResponse        207\n",
      "1   Control  GoodResponse        456\n",
      "2      Win2  GoodResponse        333\n",
      "3     Lose2  GoodResponse        415\n",
      "4   Control  GoodResponse        411\n",
      "..      ...           ...        ...\n",
      "75  Control  GoodResponse        343\n",
      "76    Lose2    NoResponse        449\n",
      "77  Control  GoodResponse        535\n",
      "78    throw    first_line        out\n",
      "79      Cue  ResponseType  Target.RT\n",
      "\n",
      "[80 rows x 3 columns]\n"
     ]
    }
   ],
   "source": [
    "win=['Win2']*26\n",
    "lose=['Lose2']*26\n",
    "cont=['Control']*26\n",
    "win.extend(lose)\n",
    "win.extend(cont)\n",
    "random.shuffle(win)\n",
    "cuewords=win\n",
    "col1=np.array(cuewords)\n",
    "resp=random.choices(['GoodResponse','NoResponse'], k=78)\n",
    "col2=np.array(resp)\n",
    "rt=np.random.randint(150,550,size=78)\n",
    "col3=rt\n",
    "df2=np.column_stack([col1,col2,col3])\n",
    "#add in ugly top line that comes with actual e-prime data files and headers beneath it\n",
    "cola=np.array(['throw','Cue'])\n",
    "colb=np.array(['first_line','ResponseType'])\n",
    "colc=np.array(['out','Target.RT'])\n",
    "df3=np.column_stack([cola,colb,colc])\n",
    "df4=pd.DataFrame(df2)\n",
    "df5=pd.DataFrame(df3)\n",
    "fake_beh=pd.concat([df5,df4],ignore_index=True)\n",
    "#fake_beh=pd.DataFrame(df2,columns=['Cue','ResponseType','Target.RT'])\n",
    "print(fake_beh)"
   ]
  },
  {
   "cell_type": "code",
   "execution_count": null,
   "metadata": {},
   "outputs": [],
   "source": []
  }
 ],
 "metadata": {
  "kernelspec": {
   "display_name": "Python 3",
   "language": "python",
   "name": "python3"
  },
  "language_info": {
   "codemirror_mode": {
    "name": "ipython",
    "version": 3
   },
   "file_extension": ".py",
   "mimetype": "text/x-python",
   "name": "python",
   "nbconvert_exporter": "python",
   "pygments_lexer": "ipython3",
   "version": "3.7.4"
  }
 },
 "nbformat": 4,
 "nbformat_minor": 2
}
