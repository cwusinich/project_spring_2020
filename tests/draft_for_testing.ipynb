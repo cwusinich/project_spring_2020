{
 "cells": [
  {
   "cell_type": "code",
   "execution_count": null,
   "metadata": {},
   "outputs": [],
   "source": [
    "import MID_proc as mid\n",
    "import os\n",
    "import shutil\n",
    "from datetime import datetime\n",
    "from pathlib import Path\n",
    "\n",
    "#set current date for use in filenames\n",
    "DATE_TODAY = datetime.now().strftime('%m%d%Y')\n",
    "FAKE_SUBS = ['7','13','101','102','99','990','9999']\n",
    "\n",
    "def make_test_data(basedir=None):\n",
    "\t#set up some example directories and files for use with tests\n",
    "\tif not basedir:\n",
    "\t\tbasedir= Path(os.getcwd())\n",
    "\n",
    "\tfake_subdir= basedir / \"MID_test_data\" / \"subjects\"\n",
    "\tfake_scriptsdir = fake_subdir.with_name(\"scripts\")\n",
    "\tfake_swarmdir= fake_scriptsdir / \"swarm\"\n",
    "\n",
    "\tos.makedirs(fake_swarmdir,exist_ok=True)\n"
   ]
  },
  {
   "cell_type": "code",
   "execution_count": null,
   "metadata": {},
   "outputs": [],
   "source": []
  }
 ],
 "metadata": {
  "kernelspec": {
   "display_name": "Python 3",
   "language": "python",
   "name": "python3"
  },
  "language_info": {
   "codemirror_mode": {
    "name": "ipython",
    "version": 3
   },
   "file_extension": ".py",
   "mimetype": "text/x-python",
   "name": "python",
   "nbconvert_exporter": "python",
   "pygments_lexer": "ipython3",
   "version": "3.7.4"
  }
 },
 "nbformat": 4,
 "nbformat_minor": 2
}
